{
 "cells": [
  {
   "cell_type": "code",
   "execution_count": 2,
   "id": "8b4724ce",
   "metadata": {},
   "outputs": [],
   "source": [
    "import pandas as pd\n",
    "from sklearn.linear_model import LogisticRegression\n",
    "from sklearn.metrics import roc_auc_score"
   ]
  },
  {
   "cell_type": "code",
   "execution_count": 4,
   "id": "598cf0ba",
   "metadata": {},
   "outputs": [],
   "source": [
    "MIMIC_train = pd.read_csv('/Users/MIMIC_train.csv', index_col=0)\n",
    "MIMIC_test = pd.read_csv('/Users/MIMIC_test.csv', index_col=0)\n",
    "SGH_train = pd.read_csv('/Users/SGH_train.csv', index_col=0)\n",
    "SGH_test = pd.read_csv('/Users/SGH_test.csv', index_col=0)"
   ]
  },
  {
   "cell_type": "code",
   "execution_count": 5,
   "metadata": {},
   "outputs": [
    {
     "data": {
      "text/html": [
       "<div>\n",
       "<style scoped>\n",
       "    .dataframe tbody tr th:only-of-type {\n",
       "        vertical-align: middle;\n",
       "    }\n",
       "\n",
       "    .dataframe tbody tr th {\n",
       "        vertical-align: top;\n",
       "    }\n",
       "\n",
       "    .dataframe thead th {\n",
       "        text-align: right;\n",
       "    }\n",
       "</style>\n",
       "<table border=\"1\" class=\"dataframe\">\n",
       "  <thead>\n",
       "    <tr style=\"text-align: right;\">\n",
       "      <th></th>\n",
       "      <th>AGE</th>\n",
       "      <th>GENDER</th>\n",
       "      <th>PULSE</th>\n",
       "      <th>RESPIRATION</th>\n",
       "      <th>SAO2</th>\n",
       "      <th>BPDIASTOLIC</th>\n",
       "      <th>BPSYSTOLIC</th>\n",
       "      <th>MI</th>\n",
       "      <th>CHF</th>\n",
       "      <th>PVD</th>\n",
       "      <th>Stroke</th>\n",
       "      <th>Pulmonary</th>\n",
       "      <th>Rheumatic</th>\n",
       "      <th>Paralysis</th>\n",
       "      <th>Renal</th>\n",
       "      <th>label</th>\n",
       "    </tr>\n",
       "  </thead>\n",
       "  <tbody>\n",
       "    <tr>\n",
       "      <th>1</th>\n",
       "      <td>32</td>\n",
       "      <td>0</td>\n",
       "      <td>82</td>\n",
       "      <td>18</td>\n",
       "      <td>100</td>\n",
       "      <td>82</td>\n",
       "      <td>122</td>\n",
       "      <td>0</td>\n",
       "      <td>0</td>\n",
       "      <td>0</td>\n",
       "      <td>0</td>\n",
       "      <td>0</td>\n",
       "      <td>0</td>\n",
       "      <td>0</td>\n",
       "      <td>0</td>\n",
       "      <td>0</td>\n",
       "    </tr>\n",
       "    <tr>\n",
       "      <th>3</th>\n",
       "      <td>68</td>\n",
       "      <td>0</td>\n",
       "      <td>87</td>\n",
       "      <td>19</td>\n",
       "      <td>100</td>\n",
       "      <td>79</td>\n",
       "      <td>149</td>\n",
       "      <td>0</td>\n",
       "      <td>1</td>\n",
       "      <td>0</td>\n",
       "      <td>0</td>\n",
       "      <td>0</td>\n",
       "      <td>0</td>\n",
       "      <td>0</td>\n",
       "      <td>1</td>\n",
       "      <td>0</td>\n",
       "    </tr>\n",
       "    <tr>\n",
       "      <th>6</th>\n",
       "      <td>76</td>\n",
       "      <td>1</td>\n",
       "      <td>70</td>\n",
       "      <td>18</td>\n",
       "      <td>99</td>\n",
       "      <td>70</td>\n",
       "      <td>155</td>\n",
       "      <td>0</td>\n",
       "      <td>0</td>\n",
       "      <td>0</td>\n",
       "      <td>0</td>\n",
       "      <td>0</td>\n",
       "      <td>0</td>\n",
       "      <td>0</td>\n",
       "      <td>0</td>\n",
       "      <td>0</td>\n",
       "    </tr>\n",
       "    <tr>\n",
       "      <th>7</th>\n",
       "      <td>76</td>\n",
       "      <td>1</td>\n",
       "      <td>58</td>\n",
       "      <td>18</td>\n",
       "      <td>97</td>\n",
       "      <td>65</td>\n",
       "      <td>143</td>\n",
       "      <td>0</td>\n",
       "      <td>0</td>\n",
       "      <td>0</td>\n",
       "      <td>0</td>\n",
       "      <td>0</td>\n",
       "      <td>0</td>\n",
       "      <td>0</td>\n",
       "      <td>0</td>\n",
       "      <td>0</td>\n",
       "    </tr>\n",
       "    <tr>\n",
       "      <th>9</th>\n",
       "      <td>79</td>\n",
       "      <td>1</td>\n",
       "      <td>68</td>\n",
       "      <td>16</td>\n",
       "      <td>100</td>\n",
       "      <td>61</td>\n",
       "      <td>136</td>\n",
       "      <td>0</td>\n",
       "      <td>0</td>\n",
       "      <td>0</td>\n",
       "      <td>0</td>\n",
       "      <td>0</td>\n",
       "      <td>0</td>\n",
       "      <td>0</td>\n",
       "      <td>0</td>\n",
       "      <td>0</td>\n",
       "    </tr>\n",
       "  </tbody>\n",
       "</table>\n",
       "</div>"
      ],
      "text/plain": [
       "   AGE  GENDER  PULSE  RESPIRATION  SAO2  BPDIASTOLIC  BPSYSTOLIC  MI  CHF  \\\n",
       "1   32       0     82           18   100           82         122   0    0   \n",
       "3   68       0     87           19   100           79         149   0    1   \n",
       "6   76       1     70           18    99           70         155   0    0   \n",
       "7   76       1     58           18    97           65         143   0    0   \n",
       "9   79       1     68           16   100           61         136   0    0   \n",
       "\n",
       "   PVD  Stroke  Pulmonary  Rheumatic  Paralysis  Renal  label  \n",
       "1    0       0          0          0          0      0      0  \n",
       "3    0       0          0          0          0      1      0  \n",
       "6    0       0          0          0          0      0      0  \n",
       "7    0       0          0          0          0      0      0  \n",
       "9    0       0          0          0          0      0      0  "
      ]
     },
     "execution_count": 5,
     "metadata": {},
     "output_type": "execute_result"
    }
   ],
   "source": [
    "MIMIC_train.head()"
   ]
  },
  {
   "cell_type": "code",
   "execution_count": 6,
   "id": "61df96f3",
   "metadata": {},
   "outputs": [],
   "source": [
    "X_MIMIC_train, y_MIMIC_train = MIMIC_train.drop('label', axis=1), MIMIC_train['label']\n",
    "X_MIMIC_test, y_MIMIC_test = MIMIC_test.drop('label', axis=1), MIMIC_test['label']\n",
    "X_SGH_train, y_SGH_train = SGH_train.drop('label', axis=1), SGH_train['label']\n",
    "X_SGH_test, y_SGH_test = SGH_test.drop('label', axis=1), SGH_test['label']"
   ]
  },
  {
   "cell_type": "code",
   "execution_count": 7,
   "id": "e1cedcf1",
   "metadata": {},
   "outputs": [
    {
     "data": {
      "text/plain": [
       "0.7344781644972647"
      ]
     },
     "execution_count": 7,
     "metadata": {},
     "output_type": "execute_result"
    }
   ],
   "source": [
    "MIMIC_model = LogisticRegression(solver='newton-cg', penalty=None)\n",
    "MIMIC_model.fit(X_MIMIC_train, y_MIMIC_train)\n",
    "MIMIC_test_pred = MIMIC_model.predict_proba(X_MIMIC_test)[:, 1]\n",
    "MIMIC_test_AUC = roc_auc_score(y_MIMIC_test, MIMIC_test_pred)\n",
    "MIMIC_test_AUC"
   ]
  },
  {
   "cell_type": "code",
   "execution_count": 8,
   "id": "c0751ccb",
   "metadata": {},
   "outputs": [
    {
     "data": {
      "text/plain": [
       "0.8183175721838878"
      ]
     },
     "execution_count": 8,
     "metadata": {},
     "output_type": "execute_result"
    }
   ],
   "source": [
    "SGH_test_pred = MIMIC_model.predict_proba(X_SGH_test)[:, 1]\n",
    "SGH_test_AUC = roc_auc_score(y_SGH_test, SGH_test_pred)\n",
    "SGH_test_AUC"
   ]
  },
  {
   "cell_type": "code",
   "execution_count": 9,
   "id": "2377752b",
   "metadata": {},
   "outputs": [
    {
     "data": {
      "text/plain": [
       "array([53], dtype=int32)"
      ]
     },
     "execution_count": 9,
     "metadata": {},
     "output_type": "execute_result"
    }
   ],
   "source": [
    "MIMIC_model.n_iter_"
   ]
  },
  {
   "cell_type": "code",
   "execution_count": 10,
   "id": "c36bf4a9",
   "metadata": {},
   "outputs": [
    {
     "data": {
      "text/plain": [
       "0.8615426936384682"
      ]
     },
     "execution_count": 10,
     "metadata": {},
     "output_type": "execute_result"
    }
   ],
   "source": [
    "SGH_model = LogisticRegression(solver='newton-cg', penalty=None)\n",
    "SGH_model.fit(X_SGH_train, y_SGH_train)\n",
    "SGH_test_pred = SGH_model.predict_proba(X_SGH_test)[:, 1]\n",
    "SGH_test_AUC = roc_auc_score(y_SGH_test, SGH_test_pred)\n",
    "SGH_test_AUC"
   ]
  },
  {
   "cell_type": "code",
   "execution_count": 11,
   "id": "325cd769",
   "metadata": {},
   "outputs": [
    {
     "data": {
      "text/plain": [
       "0.7157434917940011"
      ]
     },
     "execution_count": 11,
     "metadata": {},
     "output_type": "execute_result"
    }
   ],
   "source": [
    "MIMIC_test_pred = SGH_model.predict_proba(X_MIMIC_test)[:, 1]\n",
    "MIMIC_test_AUC = roc_auc_score(y_MIMIC_test, MIMIC_test_pred)\n",
    "MIMIC_test_AUC"
   ]
  },
  {
   "cell_type": "code",
   "execution_count": 12,
   "id": "3f3b3bb3",
   "metadata": {},
   "outputs": [
    {
     "data": {
      "text/plain": [
       "array([57], dtype=int32)"
      ]
     },
     "execution_count": 12,
     "metadata": {},
     "output_type": "execute_result"
    }
   ],
   "source": [
    "SGH_model.n_iter_"
   ]
  },
  {
   "cell_type": "code",
   "execution_count": null,
   "id": "af11b9da",
   "metadata": {},
   "outputs": [],
   "source": []
  }
 ],
 "metadata": {
  "kernelspec": {
   "display_name": "Python 3 (ipykernel)",
   "language": "python",
   "name": "python3"
  },
  "language_info": {
   "codemirror_mode": {
    "name": "ipython",
    "version": 3
   },
   "file_extension": ".py",
   "mimetype": "text/x-python",
   "name": "python",
   "nbconvert_exporter": "python",
   "pygments_lexer": "ipython3",
   "version": "3.11.6"
  }
 },
 "nbformat": 4,
 "nbformat_minor": 5
}
